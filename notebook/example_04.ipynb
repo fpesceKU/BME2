{
 "cells": [
  {
   "cell_type": "markdown",
   "metadata": {},
   "source": [
    "# Iterative BME\n",
    "\n",
    "\n",
    "When dealing with SAXS data it is possible to fit the weights and the parameters in the linear regression iteratively. This can be done automatically by calling the function ibme().\n",
    "\n",
    "\n",
    "Assume $F^{(0)}_{j,i}$ are $i=1\\cdots m$ observables calculated on $j=1\\cdots N$ frames. Each frame has an initial weight $w_j^{(0)}$. For each observation, $F_{i}^{\\text{EXP}}$ is the corresponding experimental measure. \n",
    "\n",
    "The iterative BME procedure consists in the following steps:\n",
    "\n",
    "  1. Calculate ensemble average $\\langle F \\rangle^{(k)} = \\sum_{j}w_j^{(k)} F^{(k)}_{j,i}$\n",
    "  2. Perform a linear regression, and determine the optimal parameters $\\alpha^{(k)},\\beta^{(k)}  = fit(\\langle F \\rangle ^{(k)},F_j^{\\text{CALC}})$\n",
    "  3. Transform the dataset $F_{j,i}^{(k+1)} =  \\alpha^{(k)} F^{(k)}_{j,i} + \\beta^{(k)} $\n",
    "  4. Perform a BME fit and calculate the optimal parameters $w^{(k+1)} = BME(F^{(k+1)},w^{(0)}) $\n",
    "  5. Iterate over 1-4 until the procedure converges, i.e. the improvement over the optimized $\\chi^2$ drops below a tolerance value. \n",
    "  \n",
    "  "
   ]
  },
  {
   "cell_type": "code",
   "execution_count": 2,
   "metadata": {},
   "outputs": [
    {
     "name": "stdout",
     "output_type": "stream",
     "text": [
      "# iterative BME\n",
      "Iteration:  0 scale:  0.9729 offset:  0.0047 chi2:  2.6893 diff:     nan\n",
      "Iteration:  1 scale:  1.0070 offset: -0.0023 chi2:  2.1480 diff: 5.4125e-01\n",
      "Iteration:  2 scale:  1.0046 offset: -0.0012 chi2:  1.8686 diff: 2.7949e-01\n",
      "Iteration:  3 scale:  1.0031 offset: -0.0005 chi2:  1.7152 diff: 1.5335e-01\n",
      "Iteration:  4 scale:  1.0021 offset: -0.0000 chi2:  1.6267 diff: 8.8459e-02\n",
      "Iteration:  5 scale:  1.0014 offset:  0.0003 chi2:  1.5726 diff: 5.4164e-02\n",
      "Iterative procedure converged below the tolerance 5.42e-02 after 5 iterations\n",
      "Iteration:  0 scale:  0.9729 offset:  0.0047 chi2:  2.6893 diff:     nan\n",
      "Iteration:  1 scale:  1.0070 offset: -0.0023 chi2:  2.1480 diff: 5.4125e-01\n",
      "Iteration:  2 scale:  1.0046 offset: -0.0012 chi2:  1.8686 diff: 2.7949e-01\n",
      "Iteration:  3 scale:  1.0031 offset: -0.0005 chi2:  1.7152 diff: 1.5335e-01\n",
      "Iteration:  4 scale:  1.0021 offset: -0.0000 chi2:  1.6267 diff: 8.8459e-02\n",
      "Iteration:  5 scale:  1.0014 offset:  0.0003 chi2:  1.5726 diff: 5.4164e-02\n",
      "Iterative procedure converged below the tolerance 5.42e-02 after 5 iterations\n",
      "\n",
      "Done. Initial chi2:   5.6734 Final chi2:  1.5726\n",
      "Done. Writing output files example_04_5.calc.dat example_04_5.weights.dat\n"
     ]
    }
   ],
   "source": [
    "import sys,os\n",
    "import numpy as np\n",
    "bme_dir = os.getcwd().split(\"notebook\")[0]\n",
    "sys.path.append(bme_dir)\n",
    "import BME as BME\n",
    "\n",
    "# define input file names\n",
    "exp_file_1 = \"%s/data/saxs310k_bme.txt\" % bme_dir\n",
    "calc_file_1 = \"%s/data/calc_saxs.txt\" % bme_dir\n",
    "\n",
    "\n",
    "# initialize. A name must be specified \n",
    "rew = BME.Reweight(\"example_04\")\n",
    "\n",
    "# load the experimental and calculated datasets\n",
    "rew.load(exp_file_1,calc_file_1)\n",
    "\n",
    "rew.ibme(theta=1000,iterations=50,ftol=0.07)"
   ]
  },
  {
   "cell_type": "code",
   "execution_count": 3,
   "metadata": {},
   "outputs": [
    {
     "name": "stdout",
     "output_type": "stream",
     "text": [
      "# Reading SAXS data \r\n",
      "# Reading 1043 experimental data from /Users/sandrobottaro/Projects/aa/BME2//data/saxs310k_bme.txt \r\n",
      "# Reading 10000 calculated samples from /Users/sandrobottaro/Projects/aa/BME2//data/calc_saxs.txt \r\n",
      "# Using linear averaging \r\n",
      "Initialized uniform weights 10000\r\n",
      "# Using no scaling \r\n",
      "CHI2: 11.69705 \r\n",
      "RMSD: 0.04179 \r\n",
      "VIOLATIONS: 0 \r\n",
      "##### WARNING ########## \r\n",
      "# The minimum value of the following data is higher than expt range: \r\n",
      "#          label  exp_avg exp_sigma min_calc \r\n",
      "#      0.03725569   2.8791   0.2898   3.1967\r\n",
      "#      0.05133567   3.0467   0.1187   3.1813\r\n",
      "#      0.06072232   3.0713   0.0781   3.1711\r\n",
      "#      0.06541565   3.0853   0.0708   3.1659\r\n",
      "##### WARNING ########## \r\n",
      "# The maximum value of the following data is lower than expt range: \r\n",
      "#          label  exp_avg exp_sigma max_calc \r\n",
      "#      0.07010897   3.2774   0.0612   3.1928\r\n",
      "#       0.1123489   3.2313   0.0301   3.1876\r\n",
      "Iteration:  0 scale:  0.9729 offset:  0.0047 chi2:  2.6893 diff:     nan\r\n",
      "Iteration:  1 scale:  1.0070 offset: -0.0023 chi2:  2.1480 diff: 5.4125e-01\r\n",
      "Iteration:  2 scale:  1.0046 offset: -0.0012 chi2:  1.8686 diff: 2.7949e-01\r\n",
      "Iteration:  3 scale:  1.0031 offset: -0.0005 chi2:  1.7152 diff: 1.5335e-01\r\n",
      "Iteration:  4 scale:  1.0021 offset: -0.0000 chi2:  1.6267 diff: 8.8459e-02\r\n",
      "Iteration:  5 scale:  1.0014 offset:  0.0003 chi2:  1.5726 diff: 5.4164e-02\r\n",
      "Iterative procedure converged below the tolerance 5.42e-02 after 5 iterations\r\n",
      "\r\n"
     ]
    }
   ],
   "source": []
  },
  {
   "cell_type": "code",
   "execution_count": null,
   "metadata": {},
   "outputs": [],
   "source": []
  }
 ],
 "metadata": {
  "kernelspec": {
   "display_name": "Python 3",
   "language": "python",
   "name": "python3"
  },
  "language_info": {
   "codemirror_mode": {
    "name": "ipython",
    "version": 3
   },
   "file_extension": ".py",
   "mimetype": "text/x-python",
   "name": "python",
   "nbconvert_exporter": "python",
   "pygments_lexer": "ipython3",
   "version": "3.7.3"
  }
 },
 "nbformat": 4,
 "nbformat_minor": 2
}

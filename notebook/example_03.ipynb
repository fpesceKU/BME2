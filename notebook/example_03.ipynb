{
 "cells": [
  {
   "cell_type": "markdown",
   "metadata": {},
   "source": [
    "# Handling different types of data\n",
    "\n",
    "In this example we will show which types of experimental data can be handled by BME, and how they are handled.\n",
    "From a practical point of view, the following datatypes are currently supported : NOE, chemical shifts (CS), scalar couplings (JCOUPLINGS), SAXS and RDC. This means that the keyword DATA in the experimental datafile has to be one of the following: \"NOE\",\"JCOUPLINGS\",\"CS\",\"SAXS\",\"RDC\".\n",
    "\n",
    "\n",
    "## Chemical shifts, 3J couplings and other *plain averaged* data \n",
    "\n",
    "Data such as chemical shifts are calculated as simple averages, i.e. \n",
    "\n",
    "$<F_{calc}> = \\sum w_j F_{calc}(x_j)$\n",
    "\n",
    "In this case, BME will try to find the weights such that $<F_{calc}> \\approx F_{exp}$\n",
    "\n",
    "## RDC: rescaling the dataset\n",
    "\n",
    "For RDC the question is a little bit more complex, since \n",
    "\n",
    "$<F_{calc}> \\approx \\alpha F_{exp}$,  where $\\alpha$ is a scaling parameter calculated by performing a linear regression (with intercept=0). The linear regression is weighted using the inverc\n",
    "When using RDC it is #fundamental# to specify this when loading the data file\n"
   ]
  },
  {
   "cell_type": "code",
   "execution_count": 16,
   "metadata": {},
   "outputs": [
    {
     "name": "stdout",
     "output_type": "stream",
     "text": [
      "CHI2  original:  15.60\n",
      "CHI2 optimized:   8.05\n"
     ]
    }
   ],
   "source": [
    "import sys,os\n",
    "import numpy as np\n",
    "bme_dir = os.getcwd().split(\"notebook\")[0]\n",
    "sys.path.append(bme_dir)\n",
    "import BME as BME\n",
    "\n",
    "# define input file names\n",
    "exp_file = \"%s/data/RDC_TL.exp.dat\" % bme_dir\n",
    "calc_file = \"%s/data/RDC_TL.calc.dat\" % bme_dir\n",
    "\n",
    "rew = BME.Reweight(\"example_03_scale\")\n",
    "# load the experimental and calculated datasets note the \"scale\" \n",
    "rew.load(exp_file,calc_file,fit=\"scale\")\n",
    "results = rew.fit(theta=100)\n",
    "\n",
    "print(\"CHI2  original: %6.2f\" % results[0])\n",
    "print(\"CHI2 optimized: %6.2f\" % results[1])"
   ]
  },
  {
   "cell_type": "markdown",
   "metadata": {},
   "source": [
    "## SAXS: rescaled and shifted dataset\n",
    "\n",
    "For SAXS data we need to scaled and shift the dataset. This means that \n",
    "$<F_{calc}> \\approx \\alpha F_{exp} + \\beta$,  where $\\alpha$ is a scaling parameter and $\\beta$ is an offset.\n",
    "These parameters are calculated by performing a linear regression. "
   ]
  },
  {
   "cell_type": "code",
   "execution_count": 17,
   "metadata": {},
   "outputs": [
    {
     "name": "stdout",
     "output_type": "stream",
     "text": [
      "CHI2  original:   5.67\n",
      "CHI2 optimized:   2.45\n"
     ]
    }
   ],
   "source": [
    "exp_file = \"%s/data/saxs310k_bme.txt\" % bme_dir\n",
    "calc_file = \"%s/data/calc_saxs.txt\" % bme_dir\n",
    "\n",
    "\n",
    "# initialize. A name must be specified \n",
    "rew = BME.Reweight(\"example_03_scale_offset\")\n",
    "\n",
    "# load the experimental and calculated datasets\n",
    "rew.load(exp_file,calc_file,fit=\"scale+offset\")\n",
    "\n",
    "results = rew.fit(theta=100)\n",
    "\n",
    "print(\"CHI2  original: %6.2f\" % results[0])\n",
    "print(\"CHI2 optimized: %6.2f\" % results[1])"
   ]
  },
  {
   "cell_type": "markdown",
   "metadata": {},
   "source": [
    "## NOE: non linearly averaged data. \n",
    "\n",
    "The back-calculation of NOE involves averaging $r^{-p}$ distances, where $r$ is the distance between a proton pair and the exponent $p$ depends on the timescale of the internal motion.   Internally, BME will read all distances $r_j$ from the calculated datafile, and minimize the difference between $\\sum_j w_j r_j^{-p}$ and $r_{EXP}^{-p}$. By default, BME will automatically perform this transformation (with $p=6$) for you whenever NOE data are loaded.  This behavior can be changed passing the argument \"averaging\" to the load function:\n"
   ]
  },
  {
   "cell_type": "code",
   "execution_count": 18,
   "metadata": {},
   "outputs": [
    {
     "name": "stdout",
     "output_type": "stream",
     "text": [
      "CHI2  original:   1.15\n",
      "CHI2 optimized:   0.77\n"
     ]
    }
   ],
   "source": [
    "exp_noe_file = \"../data/NOE_exp.dat\"\n",
    "calc_noe_file = \"../data/NOE_calc.dat\"\n",
    "\n",
    "rew = BME.Reweight(\"example_03_noe\")\n",
    "\n",
    "\n",
    "rew.load(exp_noe_file,calc_noe_file)\n",
    "\n",
    "results = rew.fit(theta=100)\n",
    "stats_noe = rew.predict(exp_noe_file,calc_noe_file,\"example_03_noe\")\n",
    "print(\"CHI2  original: %6.2f\" % results[0])\n",
    "print(\"CHI2 optimized: %6.2f\" % results[1])"
   ]
  },
  {
   "cell_type": "markdown",
   "metadata": {},
   "source": [
    "Allowed values for the argument \"averaging\" are \"power_6\",\"power_4\",\"power_3\" or \"linear\""
   ]
  },
  {
   "cell_type": "code",
   "execution_count": 23,
   "metadata": {},
   "outputs": [
    {
     "name": "stdout",
     "output_type": "stream",
     "text": [
      "CHI2  original:   2.98\n",
      "CHI2 optimized:   1.69\n"
     ]
    }
   ],
   "source": [
    "rew = BME.Reweight(\"example_03_noe_4\")\n",
    "\n",
    "# this automatically uses p=6\n",
    "rew.load(exp_noe_file,calc_noe_file,averaging=\"power_4\")\n",
    "\n",
    "results = rew.fit(theta=100)\n",
    "stats_noe = rew.predict(exp_noe_file,calc_noe_file,\"example_03_noe4\")\n",
    "print(\"CHI2  original: %6.2f\" % results[0])\n",
    "print(\"CHI2 optimized: %6.2f\" % results[1])\n",
    "\n"
   ]
  },
  {
   "cell_type": "markdown",
   "metadata": {},
   "source": [
    "## Inequality restraints: upper and lower bounds. \n",
    "\n",
    "Sometimes experimental data comes in the form of upper or lower bound (e.g. NOE upper bounds or unobserved NOE). Such information can be specified in BME by adding the keyword BOUND=UPPER or BOUND=LOWER in the header of the experimental data file.\n",
    "For example, when DATA=LOWER, BME will try to move all the calculated averages above the value specified in the experimental data file. \n",
    "\n"
   ]
  }
 ],
 "metadata": {
  "kernelspec": {
   "display_name": "Python 3",
   "language": "python",
   "name": "python3"
  },
  "language_info": {
   "codemirror_mode": {
    "name": "ipython",
    "version": 3
   },
   "file_extension": ".py",
   "mimetype": "text/x-python",
   "name": "python",
   "nbconvert_exporter": "python",
   "pygments_lexer": "ipython3",
   "version": "3.7.3"
  }
 },
 "nbformat": 4,
 "nbformat_minor": 2
}

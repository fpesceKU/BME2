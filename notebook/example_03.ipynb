{
 "cells": [
  {
   "cell_type": "markdown",
   "metadata": {},
   "source": [
    "# Handling different types of data\n",
    "\n",
    "In this example we will show which types of experimental data can be handled by BME, and how they are handled.\n",
    "From a practical point of view, the following datatypes are currently supported : NOE, chemical shifts (`CS`), scalar couplings (`JCOUPLINGS`), `SAXS` and `RDC`. This means that the keyword `DATA` in the experimental datafile has to be one of the following: `\"NOE\",\"JCOUPLINGS\",\"CS\",\"SAXS\",\"RDC\"`.\n",
    "\n",
    "\n",
    "## Chemical shifts, 3J couplings and other *plain averaged* data \n",
    "\n",
    "Data such as chemical shifts are calculated as simple averages, i.e. \n",
    "\n",
    "$<F_{calc}> = \\sum w_j F_{calc}(x_j)$\n",
    "\n",
    "In this case, BME will try to find the weights such that $<F_{calc}> \\approx F_{exp}$. \n",
    "\n",
    "## RDC: rescaling the dataset\n",
    "\n",
    "For RDC the question is a little bit more complex, since \n",
    "\n",
    "$<F_{calc}> \\approx \\alpha F_{exp}$,  where $\\alpha$ is a scaling parameter calculated by performing a linear regression (with intercept=0). The linear regression is weighted using the inverc\n",
    "When using RDC it is #fundamental# to specify this when loading the data file\n"
   ]
  },
  {
   "cell_type": "code",
   "execution_count": 12,
   "metadata": {},
   "outputs": [
    {
     "name": "stdout",
     "output_type": "stream",
     "text": [
      "CHI2  original:  15.60\n",
      "CHI2 optimized:   8.05\n"
     ]
    }
   ],
   "source": [
    "import sys,os\n",
    "import numpy as np\n",
    "bme_dir = os.getcwd().split(\"notebook\")[0]\n",
    "sys.path.append(bme_dir)\n",
    "import BME as BME\n",
    "\n",
    "# define input file names\n",
    "exp_file = \"%s/data/RDC_TL.exp.dat\" % bme_dir\n",
    "calc_file = \"%s/data/RDC_TL.calc.dat.zip\" % bme_dir\n",
    "\n",
    "rew = BME.Reweight(\"example_03_scale\")\n",
    "# load the experimental and calculated datasets note the \"scale\" \n",
    "rew.load(exp_file,calc_file,fit=\"scale\")\n",
    "results = rew.fit(theta=100)\n",
    "\n",
    "print(\"CHI2  original: %6.2f\" % results[0])\n",
    "print(\"CHI2 optimized: %6.2f\" % results[1])"
   ]
  },
  {
   "cell_type": "markdown",
   "metadata": {},
   "source": [
    "## SAXS: rescaled and shifted dataset\n",
    "\n",
    "For SAXS data we need to scaled and shift the dataset. This means that \n",
    "$<F_{calc}> \\approx \\alpha F_{exp} + \\beta$,  where $\\alpha$ is a scaling parameter and $\\beta$ is an offset.\n",
    "These parameters are calculated by performing a linear regression. "
   ]
  },
  {
   "cell_type": "code",
   "execution_count": 13,
   "metadata": {},
   "outputs": [
    {
     "name": "stdout",
     "output_type": "stream",
     "text": [
      "CHI2  original:   4.77\n",
      "CHI2 optimized:   2.05\n"
     ]
    }
   ],
   "source": [
    "exp_file = \"%s/data/saxs.exp.dat\" % bme_dir\n",
    "calc_file = \"%s/data/saxs.calc.txt.zip\" % bme_dir\n",
    "\n",
    "\n",
    "# initialize. A name must be specified \n",
    "rew = BME.Reweight(\"example_03_scale_offset\")\n",
    "\n",
    "# load the experimental and calculated datasets\n",
    "rew.load(exp_file,calc_file,fit=\"scale+offset\")\n",
    "\n",
    "results = rew.fit(theta=100)\n",
    "\n",
    "print(\"CHI2  original: %6.2f\" % results[0])\n",
    "print(\"CHI2 optimized: %6.2f\" % results[1])"
   ]
  },
  {
   "cell_type": "markdown",
   "metadata": {},
   "source": [
    "## NOE: non linearly averaged data. \n",
    "\n",
    "The back-calculation of NOE involves averaging $r^{-p}$ distances, where $r$ is the distance between a proton pair and the exponent $p$ depends on the timescale of the internal motion.   Internally, BME will read all distances $r_j$ from the calculated datafile, and minimize the difference between $\\sum_j w_j r_j^{-p}$ and $r_{EXP}^{-p}$. By default, BME will automatically perform this transformation (with $p=6$) whenever NOE data are loaded.  "
   ]
  },
  {
   "cell_type": "code",
   "execution_count": 16,
   "metadata": {},
   "outputs": [
    {
     "name": "stdout",
     "output_type": "stream",
     "text": [
      "CHI2  original:   1.15\n",
      "CHI2 optimized:   0.77\n"
     ]
    }
   ],
   "source": [
    "exp_noe_file = \"../data/NOE_exp.dat\"\n",
    "calc_noe_file = \"../data/NOE_calc.dat.zip\"\n",
    "\n",
    "rew = BME.Reweight(\"example_03_noe\")\n",
    "\n",
    "\n",
    "rew.load(exp_noe_file,calc_noe_file)\n",
    "\n",
    "results = rew.fit(theta=100)\n",
    "print(\"CHI2  original: %6.2f\" % results[0])\n",
    "print(\"CHI2 optimized: %6.2f\" % results[1])"
   ]
  },
  {
   "cell_type": "markdown",
   "metadata": {},
   "source": [
    "Note that the $\\chi^2$ above differs from the quantity that is calculated when calling the fucntion `predict()`. This is because the comparison is performed between $r_{calc} = (\\sum_j w_j r_j^{-p})^{-1/p}$ and $r_{EXP}$"
   ]
  },
  {
   "cell_type": "code",
   "execution_count": 19,
   "metadata": {},
   "outputs": [
    {
     "name": "stdout",
     "output_type": "stream",
     "text": [
      "CHI2  original:   3.15\n",
      "CHI2 optimized:   1.82\n",
      "RMSD  original:   0.44\n",
      "RMSD optimized:   0.34\n",
      "Violations  original: 16\n",
      "Violations optimized: 9\n"
     ]
    }
   ],
   "source": [
    "stats_noe = rew.predict(exp_noe_file,calc_noe_file,\"example_03_noe\")\n",
    "print(\"CHI2  original: %6.2f\" % stats_noe[0])\n",
    "print(\"CHI2 optimized: %6.2f\" % stats_noe[3])\n",
    "\n",
    "print(\"RMSD  original: %6.2f\" % stats_noe[1])\n",
    "print(\"RMSD optimized: %6.2f\" % stats_noe[4])\n",
    "\n",
    "print(\"Violations  original: %d\" % stats_noe[2])\n",
    "print(\"Violations optimized: %d\" % stats_noe[5])\n"
   ]
  },
  {
   "cell_type": "markdown",
   "metadata": {},
   "source": [
    "This exponent $p$ can be chosen by passing the argument `averaging` to the load function. The allowed values are `\"power_6\",\"power_4\",\"power_3\"` or `\"linear\"`."
   ]
  },
  {
   "cell_type": "code",
   "execution_count": 20,
   "metadata": {},
   "outputs": [
    {
     "name": "stdout",
     "output_type": "stream",
     "text": [
      "CHI2  original:   2.98\n",
      "CHI2 optimized:   1.69\n"
     ]
    }
   ],
   "source": [
    "rew = BME.Reweight(\"example_03_noe_4\")\n",
    "\n",
    "# this automatically uses p=6\n",
    "rew.load(exp_noe_file,calc_noe_file,averaging=\"power_4\")\n",
    "\n",
    "results = rew.fit(theta=100)\n",
    "stats_noe = rew.predict(exp_noe_file,calc_noe_file,\"example_03_noe4\")\n",
    "print(\"CHI2  original: %6.2f\" % results[0])\n",
    "print(\"CHI2 optimized: %6.2f\" % results[1])\n",
    "\n"
   ]
  },
  {
   "cell_type": "markdown",
   "metadata": {},
   "source": [
    "## Inequality restraints: upper and lower bounds. \n",
    "\n",
    "Sometimes experimental data comes in the form of upper or lower bound (e.g. NOE upper bounds or unobserved NOE). Such information can be specified in BME by adding the keyword `BOUND=UPPER` or `BOUND=LOWER` in the header of the experimental data file.\n",
    "For example, when `DATA=LOWER`, BME will restrain the calculated averages to be above the value specified in the experimental data file. In the example below we use lower-bound NOE distances for reweighting:\n"
   ]
  },
  {
   "cell_type": "code",
   "execution_count": 8,
   "metadata": {},
   "outputs": [
    {
     "name": "stdout",
     "output_type": "stream",
     "text": [
      "# DATA=NOE BOUND=LOWER\r\n",
      "C1_H1'_C2_H4' 5.2 0.1 \r\n",
      "C1_H1'_C3_1H2' 5.2 0.1 \r\n",
      "C1_H1'_C3_H3' 5.2 0.1 \r\n",
      "C1_H1'_C3_H4' 5.2 0.1 \r\n",
      "C1_H1'_C3_2H5' 5.2 0.1 \r\n",
      "C1_H1'_C4_H3' 5.2 0.1 \r\n",
      "C1_H1'_C4_H4' 5.2 0.1 \r\n",
      "C1_H1'_C4_2H5' 5.2 0.1 \r\n",
      "C1_1H2'_C3_1H2' 4.6 0.1 \r\n"
     ]
    }
   ],
   "source": [
    "%cat ../data/uNOE_exp.dat | head"
   ]
  },
  {
   "cell_type": "code",
   "execution_count": 21,
   "metadata": {},
   "outputs": [
    {
     "name": "stdout",
     "output_type": "stream",
     "text": [
      "CHI2  original:   4.32\n",
      "CHI2 optimized:   0.01\n",
      "RMSD  original:   0.21\n",
      "RMSD optimized:   0.01\n",
      "Violations  original: 13\n",
      "Violations optimized: 1\n"
     ]
    }
   ],
   "source": [
    "\n",
    "rew = BME.Reweight(\"example_03_unoe\")\n",
    "\n",
    "exp_unoe_file = \"../data/uNOE_exp.dat\"\n",
    "calc_unoe_file = \"../data/uNOE_calc.dat.zip\"\n",
    "rew.load(exp_unoe_file,calc_unoe_file)\n",
    "\n",
    "results = rew.fit(theta=100)\n",
    "stats_unoe = rew.predict(exp_unoe_file,calc_unoe_file,\"example_03_unoe\")\n",
    "\n",
    "print(\"CHI2  original: %6.2f\" % stats_unoe[0])\n",
    "print(\"CHI2 optimized: %6.2f\" % stats_unoe[3])\n",
    "\n",
    "print(\"RMSD  original: %6.2f\" % stats_unoe[1])\n",
    "print(\"RMSD optimized: %6.2f\" % stats_unoe[4])\n",
    "\n",
    "print(\"Violations  original: %d\" % stats_unoe[2])\n",
    "print(\"Violations optimized: %d\" % stats_unoe[5])\n"
   ]
  },
  {
   "cell_type": "markdown",
   "metadata": {},
   "source": [
    "We now plot the measurements that are violated in the original ensemble and/or in the optimized one"
   ]
  },
  {
   "cell_type": "code",
   "execution_count": 42,
   "metadata": {},
   "outputs": [
    {
     "data": {
      "text/plain": [
       "<matplotlib.legend.Legend at 0x1a1e26e0b8>"
      ]
     },
     "execution_count": 42,
     "metadata": {},
     "output_type": "execute_result"
    },
    {
     "data": {
      "image/png": "[encoded data removed]",
      "text/plain": [
       "<Figure size 432x288 with 1 Axes>"
      ]
     },
     "metadata": {
      "needs_background": "light"
     },
     "output_type": "display_data"
    }
   ],
   "source": [
    "import matplotlib.pyplot as plt\n",
    "results_data = np.loadtxt(\"example_03_unoe\",usecols=(1,2,3,4,5))\n",
    "labels = np.loadtxt(\"example_03_unoe\",usecols=(0),dtype=str)\n",
    "\n",
    "# select only the points that are violated \n",
    "ii = np.where(results_data[:,4]!=0)[0]\n",
    "selection = results_data[ii,:]\n",
    "labels_selection = labels[ii]\n",
    "\n",
    "# order them to make the plot nicer\n",
    "idx_ordered = np.argsort(selection[:,0])\n",
    "\n",
    "xx = np.arange(len(idx_ordered))\n",
    "#plt.errorbar(xx, selection[idx_ordered,0],selection[idx_ordered,1],c='k',fmt=\"o\",label=\"Exp\")\n",
    "plt.bar(xx,[4]*len(xx),bottom=selection[idx_ordered,0],color='0.5',alpha=0.4)\n",
    "plt.errorbar(xx, selection[idx_ordered,0],selection[idx_ordered,1],c='k',fmt=\".\",label=\"Exp\")\n",
    "plt.scatter(xx,selection[idx_ordered,2],c='r',label=\"Original\")\n",
    "plt.scatter(xx,selection[idx_ordered,3],c='b',label=\"Optimized\")\n",
    "\n",
    "plt.ylim(2,6)\n",
    "_ = plt.xticks(xx,[labels_selection[l] for l in idx_ordered],rotation=90)\n",
    "plt.legend()\n",
    "#plt.plot(results_data[:])\n"
   ]
  },
  {
   "cell_type": "code",
   "execution_count": null,
   "metadata": {},
   "outputs": [],
   "source": []
  }
 ],
 "metadata": {
  "kernelspec": {
   "display_name": "Python 3",
   "language": "python",
   "name": "python3"
  },
  "language_info": {
   "codemirror_mode": {
    "name": "ipython",
    "version": 3
   },
   "file_extension": ".py",
   "mimetype": "text/x-python",
   "name": "python",
   "nbconvert_exporter": "python",
   "pygments_lexer": "ipython3",
   "version": "3.7.3"
  }
 },
 "nbformat": 4,
 "nbformat_minor": 2
}
